{
 "cells": [
  {
   "cell_type": "code",
   "execution_count": 17,
   "id": "ae4a6690-9aa3-46fd-8c8c-7da7e2080bc4",
   "metadata": {},
   "outputs": [],
   "source": [
    "import pandas as pd\n",
    "a8=pd.read_csv(r\"d:\\iris.csv\")\n",
    "df8=a8[['v1','v2','v3','v4']].values"
   ]
  },
  {
   "cell_type": "code",
   "execution_count": 18,
   "id": "ff2f41d4-fc14-4213-977d-040a5fc8ab54",
   "metadata": {},
   "outputs": [],
   "source": [
    "import pandas as pd\n",
    "aa=pd.read_csv(r\"d:\\USArrests_data.csv\")\n",
    "df2=aa[['Murder','Assault','UrbanPop','Rape']]\n",
    "df5 = df2.values"
   ]
  },
  {
   "cell_type": "code",
   "execution_count": 19,
   "id": "3e3d131f-84da-4bcc-a59c-d900530019f6",
   "metadata": {},
   "outputs": [],
   "source": [
    "import pandas as pd\n",
    "a1=pd.read_csv(r\"d:\\protein.csv\")\n",
    "df6=a1[['v1','v2','v3','v4','v5','v6','v7','v8','v9',]].values\n",
    "#print(df6)\n"
   ]
  },
  {
   "cell_type": "code",
   "execution_count": 20,
   "id": "5e1546f0-1bcc-4cb5-9547-db804d224671",
   "metadata": {
    "scrolled": true
   },
   "outputs": [],
   "source": [
    "import pandas as pd\n",
    "aa=pd.read_csv(r\"d:\\judge.csv\")\n",
    "#df2=aa[['Murder','Assault','UrbanPop','Rape']]\n",
    "df5 = aa.values\n"
   ]
  },
  {
   "cell_type": "code",
   "execution_count": 21,
   "id": "8af0257c-dea2-42f7-842d-48c0e4b610ed",
   "metadata": {},
   "outputs": [],
   "source": [
    "import pandas as pd\n",
    "a7=pd.read_csv(r\"d:\\JudgeRatings.csv\")\n",
    "df7=a7[['v1','v2','v3','v4','v5','v6','v7','v8','v9','v10','v11','v12']].values\n",
    "#print(df7)"
   ]
  },
  {
   "cell_type": "markdown",
   "id": "45484873-f54c-4af3-9764-c894235b5932",
   "metadata": {},
   "source": [
    " ##### Lloyd Algorithm    ############"
   ]
  },
  {
   "cell_type": "code",
   "execution_count": 2,
   "id": "86f64c1e-d47a-4d68-bf5e-ca0e10711b52",
   "metadata": {},
   "outputs": [],
   "source": [
    "                   ##### Lloyd Algorithm    ############\n",
    "import time\n",
    "import numpy as np\n",
    "\n",
    "def lloyd_kmeans(X, n_clusters, max_iters=200, tol=1e-4):\n",
    "\n",
    "    start_time = time.time()\n",
    "\n",
    "    # اختيار مراكز العناقيد الأولية بشكل عشوائي\n",
    "    centers = X[np.random.choice(len(X), n_clusters, replace=False)]\n",
    "    #print(centers)\n",
    "    \n",
    "    # مجموع مربعات الأخطاء (SSE)\n",
    "    sse = 0.0 \n",
    " \n",
    "    for iter in range(max_iters):\n",
    "        # حساب المسافات بين كل نقطة وكل مركز\n",
    "        distances = np.linalg.norm(X[:, np.newaxis] - centers, axis=2)\n",
    "       \n",
    "        # تصنيف كل نقطة إلى أقرب مركز\n",
    "        labels = np.argmin(distances, axis=1)\n",
    "                \n",
    "        # حفظ مراكز العناقيد الحالية للمقارنة بعد التحديث\n",
    "        old_centers = np.copy(centers)       \n",
    "        \n",
    "        # تحديث مراكز العناقيد\n",
    "        for i in range(n_clusters):\n",
    "            cluster_points = X[labels == i]\n",
    "            if len(cluster_points) > 0:\n",
    "                centers[i] = cluster_points.mean(axis=0)\n",
    "        # حساب مجموع مربعات الأخطاء (SSE)\n",
    "        sse = np.sum(np.min(distances, axis=1)**2)\n",
    "        # التحقق مما إذا كانت مراكز العناقيد لم تعد تتغير بشكل كبير\n",
    "        if np.allclose(old_centers, centers, atol=tol):\n",
    "            break\n",
    "        sse = np.sum(np.min(distances, axis=1)**2)\n",
    "        \n",
    "    end_time = time.time()\n",
    "    execution_time = end_time - start_time\n",
    "    # تقسيم الوقت إلى أجزاء\n",
    "    seconds = int(execution_time)\n",
    "    milliseconds = (execution_time - seconds) * 1000\n",
    "    microseconds = (milliseconds - int(milliseconds)) * 1000\n",
    "\n",
    "    print(f\"Execution time: {seconds} seconds, {int(milliseconds)} milliseconds, {int(microseconds)} microseconds\")\n",
    "\n",
    "    print(f\"Execution time: {execution_time} seconds\")\n",
    "\n",
    "    return centers, labels, sse"
   ]
  },
  {
   "cell_type": "code",
   "execution_count": 5,
   "id": "a63a75f7-2c1b-4927-a351-f2ef8915b0c6",
   "metadata": {
    "scrolled": true
   },
   "outputs": [
    {
     "name": "stdout",
     "output_type": "stream",
     "text": [
      "Lloyd Algorthim\n",
      "Execution time: 0 seconds, 4 milliseconds, 987 microseconds\n",
      "Execution time: 0.004987239837646484 seconds\n",
      "مراكز العناقيد النهائية:\n",
      "[[7.75555556 6.91111111 5.77777778 6.42222222 6.22222222 6.42222222\n",
      "  6.08888889 6.11111111 5.73333333 5.92222222 6.51111111 5.85555556]\n",
      " [7.8        7.86363636 7.32727273 7.80909091 7.67272727 7.70909091\n",
      "  7.54545455 7.53636364 7.31818182 7.42727273 8.09090909 7.64545455]\n",
      " [6.52857143 8.17142857 7.8        7.32857143 7.12857143 7.17142857\n",
      "  7.12857143 7.18571429 7.12857143 7.17142857 7.92857143 7.57142857]\n",
      " [7.40625    8.6875     8.5        8.4875     8.20625    8.28125\n",
      "  8.3375     8.3625     8.225      8.26875    8.63125    8.56875   ]]\n",
      "تصنيف النقاط:\n",
      "[2 3 1 3 0 3 3 0 3 1 2 2 2 0 3 1 0 1 1 0 2 0 0 2 3 3 3 3 3 3 1 1 3 3 0 3 1\n",
      " 2 1 1 0 3 1]\n",
      "SSE:\n",
      "116.71000180375182\n"
     ]
    }
   ],
   "source": [
    "###  Lloyd \n",
    "print(\"Lloyd Algorthim\")\n",
    "X = df7\n",
    "n_clusters = 4\n",
    "np.random.seed(8)\n",
    "centers, labels,sse = lloyd_kmeans(X, n_clusters)\n",
    "print(\"مراكز العناقيد النهائية:\")\n",
    "print(centers)\n",
    "print(\"تصنيف النقاط:\")\n",
    "print(labels)\n",
    "print(\"SSE:\")\n",
    "print(sse)"
   ]
  },
  {
   "cell_type": "markdown",
   "id": "48c97026-46e6-40d7-933d-934d67e8d2ad",
   "metadata": {},
   "source": [
    "## MacQueen"
   ]
  },
  {
   "cell_type": "code",
   "execution_count": null,
   "id": "b343384f-b6f3-4630-af1a-7e4994a7a4d3",
   "metadata": {},
   "outputs": [],
   "source": []
  },
  {
   "cell_type": "code",
   "execution_count": null,
   "id": "cca8f919-fce6-4a1c-b202-6e9ceb4532de",
   "metadata": {},
   "outputs": [],
   "source": []
  },
  {
   "cell_type": "code",
   "execution_count": 237,
   "id": "36160390-b191-47ba-98de-1b9156d3def8",
   "metadata": {},
   "outputs": [],
   "source": []
  },
  {
   "cell_type": "code",
   "execution_count": 868,
   "id": "8b88f211-8170-4e86-9cec-39d169535b0b",
   "metadata": {},
   "outputs": [],
   "source": [
    "import numpy as np\n",
    "\n",
    "def MacQueen_kmeans(data, k, max_iterations=50):\n",
    "    centers = data[np.random.choice(range(len(data)), k, replace=False)]\n",
    "    #print(centers)\n",
    "    labels= np.full(len(data), 999)    \n",
    "    prev_centers = np.copy(centers)\n",
    "    sse=0.0\n",
    "    \n",
    "    for iter in range(max_iterations):\n",
    "        for i in range(len(data)):\n",
    "            point = data[i]\n",
    "            distances = np.linalg.norm(point - centers, axis=1)\n",
    "            cluster_index = np.argmin(distances)\n",
    "            labels[i] = cluster_index\n",
    "            \n",
    "            for j in range(k):\n",
    "                cluster_points = data[labels == j]\n",
    "                if len(cluster_points) > 0:\n",
    "                    centers[j] = cluster_points.mean(axis=0)\n",
    "        \n",
    "        if np.all(centers == prev_centers):\n",
    "            break\n",
    "        \n",
    "        distances = np.linalg.norm(data[:, np.newaxis] - centers, axis=2)\n",
    "        sse = np.sum(np.min(distances, axis=1)**2)\n",
    "        prev_centers = np.copy(centers)   \n",
    "    return labels, centers,sse\n",
    "  "
   ]
  },
  {
   "cell_type": "code",
   "execution_count": 869,
   "id": "42712c36-08e5-4021-a36d-94447d50ee3f",
   "metadata": {
    "scrolled": true
   },
   "outputs": [
    {
     "name": "stdout",
     "output_type": "stream",
     "text": [
      "MacQueen Algorthim\n",
      "Labels: [1 1 0 2 1 2 3 1 0 2 4 3 1 3 4 3 3 1 4 0 3 1 4 1 2 3 3 1 4 3 0 1 0 4 3 3 3\n",
      " 3 2 1 4 2 2 3 4 3 3 4 4 3]\n",
      "sse: 26684.554397249805\n"
     ]
    }
   ],
   "source": [
    "### MacQueen \n",
    "print(\"MacQueen Algorthim\")\n",
    "# قم بتحميل البيانات الخاصة بك\n",
    "data =df5\n",
    "#np.random.seed(55)\n",
    "# تحديد عد العناقيد\n",
    "k = 5\n",
    "\n",
    "# تنفيذ خوارزمية K-means\n",
    "labels, centers,sse= MacQueen_kmeans(data, k)\n",
    "print(\"Labels:\", labels)\n",
    "#print(\"Centers:\", centers)\n",
    "print(\"sse:\", sse)\n",
    "\n"
   ]
  },
  {
   "cell_type": "code",
   "execution_count": null,
   "id": "3f2f83bb-f811-4c95-bbf0-a52cb40a20d8",
   "metadata": {},
   "outputs": [],
   "source": []
  },
  {
   "cell_type": "markdown",
   "id": "5cf69529-8fa9-4e56-8ecb-fbf514b65513",
   "metadata": {},
   "source": [
    "### الطريقتين معا"
   ]
  },
  {
   "cell_type": "code",
   "execution_count": 611,
   "id": "c84c7d18-93c8-49a8-ab9a-05a9587d5800",
   "metadata": {
    "scrolled": true
   },
   "outputs": [
    {
     "name": "stdout",
     "output_type": "stream",
     "text": [
      "Lloyd Algorthim\n",
      "[[ 10.4 249.   83.   24. ]\n",
      " [ 14.4 279.   48.   22.5]\n",
      " [ 17.4 211.   60.   25.8]\n",
      " [  5.7  81.   39.    9.3]]\n",
      "مراكز العناقيد النهائية:\n",
      "تصنيف النقاط:\n",
      "[0 0 1 2 0 2 3 0 1 2 3 3 0 3 3 3 3 0 3 1 2 0 3 0 2 3 3 0 3 2 1 0 1 3 3 2 2\n",
      " 3 2 1 3 2 2 3 3 2 2 3 3 2]\n",
      "SSE:\n",
      "37735.02419047619\n",
      "\n",
      "\n",
      "\n",
      "MacQueen Algorthim\n",
      "[[ 10.4 249.   83.   24. ]\n",
      " [ 14.4 279.   48.   22.5]\n",
      " [ 17.4 211.   60.   25.8]\n",
      " [  5.7  81.   39.    9.3]]\n",
      "Labels: [1 1 0 2 1 2 3 1 0 2 3 3 1 3 3 3 3 1 3 0 2 1 3 1 2 3 3 1 3 2 0 1 0 3 3 2 2\n",
      " 3 2 1 3 2 2 3 3 2 2 3 3 2]\n",
      "sse: 37659.21922077922\n",
      "my Algorthim\n",
      "مراكز العناقيد النهائية:\n",
      "[0 1 1 2 0 2 3 0 1 2 3 3 0 3 3 3 3 0 3 1 2 0 3 1 2 3 3 0 3 2 1 0 1 3 3 2 2\n",
      " 3 2 1 3 2 2 3 3 2 2 3 3 2]\n",
      "تصنيف النقاط:\n",
      "[[ 11.1625     251.125       76.375       28.875     ]\n",
      " [ 12.4625     294.          60.25        27.875     ]\n",
      " [  8.21428571 173.28571429  70.64285714  22.84285714]\n",
      " [  4.27        87.55        59.75        14.39      ]]\n",
      "39013.30285714286\n"
     ]
    }
   ],
   "source": [
    "###  Lloyd \n",
    "z=3\n",
    "print(\"Lloyd Algorthim\")\n",
    "X = df5\n",
    "n_clusters = 4\n",
    "np.random.seed(z)\n",
    "centers, labels,sse = lloyd_kmeans(X, n_clusters)\n",
    "print(\"مراكز العناقيد النهائية:\")\n",
    "#print(centers)\n",
    "print(\"تصنيف النقاط:\")\n",
    "print(labels)\n",
    "print(\"SSE:\")\n",
    "print(sse)\n",
    "\n",
    "print(\"\")\n",
    "print(\"\")\n",
    "print(\"\")\n",
    "\n",
    "###  MacQueen \n",
    "print(\"MacQueen Algorthim\")\n",
    "# قم بتحميل البيانات الخاصة بك\n",
    "data =df5\n",
    "np.random.seed(z)\n",
    "# تحديد عد العناقيد\n",
    "k = 4\n",
    "\n",
    "# تنفيذ خوارزمية K-means\n",
    "labels, centers,sse= MacQueen_kmeans(data, k)\n",
    "print(\"Labels:\", labels)\n",
    "#print(\"Centers:\", centers)\n",
    "print(\"sse:\", sse)\n",
    "\n",
    "\n",
    "###  my \n",
    "print(\"my Algorthim\")\n",
    "data= df5\n",
    "k = 4\n",
    "np.random.seed(z)\n",
    "centers, labels,sse = My_kmeans(data, k)\n",
    "print(\"مراكز العناقيد النهائية:\")\n",
    "print(centers)\n",
    "print(\"تصنيف النقاط:\")\n",
    "print(labels)\n",
    "# print(\"SSE:\")\n",
    "print(sse)\n"
   ]
  },
  {
   "cell_type": "code",
   "execution_count": null,
   "id": "3b4a55ab-aeb9-4a40-82d0-63afb61748df",
   "metadata": {},
   "outputs": [],
   "source": []
  },
  {
   "cell_type": "code",
   "execution_count": 170,
   "id": "0b6e640a-f5e9-493c-a435-9dca5abe97c3",
   "metadata": {
    "scrolled": true
   },
   "outputs": [
    {
     "name": "stdout",
     "output_type": "stream",
     "text": [
      "Lloyd Algorthim\n",
      "[[  2.1  57.   56.    9.5]\n",
      " [  2.6 120.   54.   14.2]\n",
      " [  5.3  46.   83.   20.2]\n",
      " [ 13.2 188.   59.   26.9]]\n",
      "centers og Llloyd is \n",
      "[[  2.68888889  64.55555556  50.66666667  10.54444444]\n",
      " [  6.32857143 139.71428571  67.95238095  19.16666667]\n",
      " [  5.3         46.          83.          20.2       ]\n",
      " [ 11.94736842 261.94736842  69.          28.63157895]]\n",
      "55082.07674185464\n",
      "[3 3 3 1 3 3 1 3 3 3 2 1 3 1 0 1 1 3 0 3 1 3 0 3 1 1 1 3 0 1 3 3 3 0 1 1 1\n",
      " 1 1 3 0 1 3 1 0 1 1 0 0 1]\n",
      "my Algorthim\n",
      "مراكز العناقيد النهائية:\n",
      "[1 1 0 2 1 2 3 1 0 2 3 3 1 3 3 3 3 1 3 0 2 1 3 1 2 3 3 1 3 2 1 1 0 3 3 2 2\n",
      " 3 2 1 3 2 2 3 3 2 2 3 3 2]\n",
      "تصنيف النقاط:\n",
      "[[ 11.95       316.5         68.          26.7       ]\n",
      " [ 11.76666667 257.91666667  68.41666667  28.93333333]\n",
      " [  8.21428571 173.28571429  70.64285714  22.84285714]\n",
      " [  4.27        87.55        59.75        14.39      ]]\n",
      "37652.659523809525\n"
     ]
    }
   ],
   "source": [
    "###  Lloyd \n",
    "print(\"Lloyd Algorthim\")\n",
    "X = df5\n",
    "n_clusters = 4\n",
    "np.random.seed(0)\n",
    "centers, labels,sse = lloyd_kmeans(X, n_clusters)\n",
    "print(\"centers og Llloyd is \")\n",
    "print(centers)\n",
    "print(sse)\n",
    "print(labels)\n",
    "###  my \n",
    "print(\"my Algorthim\")\n",
    "data= df5\n",
    "k = 4\n",
    "#np.random.seed(0)\n",
    "centers, labels,sse = My_kmeans(data, k)\n",
    "print(\"مراكز العناقيد النهائية:\")\n",
    "print(centers)\n",
    "print(\"تصنيف النقاط:\")\n",
    "print(labels)\n",
    "# print(\"SSE:\")\n",
    "print(sse)\n"
   ]
  },
  {
   "cell_type": "markdown",
   "id": "f9f84b08-505d-486f-9a06-1b6d975ef0cd",
   "metadata": {},
   "source": [
    "### الخوارزمية المقترحة I "
   ]
  },
  {
   "cell_type": "markdown",
   "id": "6240c386-18ff-4751-a33f-2f7ba9c0d032",
   "metadata": {},
   "source": [
    "### Hartigan Method"
   ]
  },
  {
   "cell_type": "markdown",
   "id": "e37f7835-9bdc-40e6-94dd-c02a078ee01a",
   "metadata": {},
   "source": [
    "#### "
   ]
  },
  {
   "cell_type": "markdown",
   "id": "6949a809-fd80-4a67-8704-333a70d8e621",
   "metadata": {},
   "source": [
    " code Hartigan"
   ]
  },
  {
   "cell_type": "code",
   "execution_count": 941,
   "id": "ae4fdc71-4d4f-41d4-87ca-9d38e4269fcf",
   "metadata": {},
   "outputs": [],
   "source": [
    "import numpy as np\n",
    "\n",
    "def Hartigan_kmeans(data, k, max_iterations=20):\n",
    "    centers = data[np.random.choice(range(len(data)), k, replace=False)]\n",
    "    #print(centers)\n",
    "    labels= np.full(len(data), 0) \n",
    "    \n",
    "    best_labels = None\n",
    "    best_sse = np.inf\n",
    "    prev_centers = np.copy(centers)\n",
    "    sse=0\n",
    "    for iter in range(max_iterations):  # التكرار حتى يتوقف أو يتحقق الشرط\n",
    "        for i in range(len(data)):  # اختيار النقطة أو الحالة\n",
    "            point = data[i]\n",
    "            sses = []\n",
    "            #print (iter+1,i+1)\n",
    "            # نقل النقطة إلى كل عنقود وحساب SSE\n",
    "            for j in range(k):\n",
    "                labels[i] = j\n",
    "                # حساب مراكز العناقيد الحالية\n",
    "                for c in range(k):\n",
    "                    cluster_points = data[labels == c]\n",
    "                    if len(cluster_points) > 0:\n",
    "                        centers[c] = cluster_points.mean(axis=0)\n",
    "                \n",
    "                # حساب SSE لهذا التصنيف\n",
    "                current_sse = 0.0\n",
    "                for c in range(k):\n",
    "                    cluster_points = data[labels == c]\n",
    "                    #print(cluster_points)\n",
    "                    if len(cluster_points) > 0:\n",
    "                        cluster_center = np.mean(cluster_points, axis=0)\n",
    "                        current_sse += np.sum(np.linalg.norm(cluster_points - cluster_center, axis=1) ** 2)\n",
    "                \n",
    "                sses.append(current_sse)\n",
    "                \n",
    "                           \n",
    "            # اختيار أفضل تصنيف بناءً على أدنى قيمة SSE\n",
    "            min_sse_index = np.argmin(sses)\n",
    "            labels[i] = min_sse_index\n",
    "            current_best_sse = sses[min_sse_index]\n",
    "            #print(sses)\n",
    "            # مقارنة أفضل قيمة SSE مع أفضل قيمة SSE محدثة\n",
    "            if current_best_sse < best_sse:\n",
    "                best_sse = current_best_sse\n",
    "            best_labels = np.copy(labels)\n",
    "                                      \n",
    "                # تحديث مراكز العناقيد بعد تحديث التصنيف\n",
    "            for c in range(k):\n",
    "                    cluster_points = data[labels == c]\n",
    "                    if len(cluster_points) > 0:\n",
    "                        centers[c] = cluster_points.mean(axis=0)\n",
    "        if np.all(centers == prev_centers):\n",
    "            break \n",
    "        # distances = np.linalg.norm(data[:, np.newaxis] - centers, axis=2)\n",
    "        # sse = np.sum(np.min(distances, axis=1)**2)\n",
    "        prev_centers = np.copy(centers)\n",
    "    #print(sse)\n",
    "    return best_labels, centers, best_sse\n",
    "\n"
   ]
  },
  {
   "cell_type": "code",
   "execution_count": 942,
   "id": "5e775faa-76c8-46aa-a738-d451bc11625a",
   "metadata": {},
   "outputs": [
    {
     "name": "stdout",
     "output_type": "stream",
     "text": [
      "Hartigan Algorthim\n",
      "37652.659523809525\n",
      "37652.659523809525\n",
      "37652.659523809525\n",
      "37652.659523809525\n",
      "37652.659523809525\n",
      "37652.659523809525\n",
      "37652.659523809525\n",
      "37652.659523809525\n",
      "37652.659523809525\n",
      "37652.659523809525\n"
     ]
    }
   ],
   "source": [
    "print(\"Hartigan Algorthim\")\n",
    "data= df5\n",
    "k = 4\n",
    "for i in range(10):\n",
    "    np.random.seed(i)\n",
    "    best_labels, centers, best_sse = Hartigan_kmeans(data, k)\n",
    "    #print(\"مراكز العناقيد النهائية:\")\n",
    "    #print(centers)\n",
    "    # print(\"تصنيف النقاط:\")\n",
    "#print(best_labels)\n",
    "    #print(\"SSE:\")\n",
    "    print(best_sse)\n",
    "#np.random.seed(101)\n",
    "# best_labels, centers, best_sse = Hartigan_kmeans(data, k)\n",
    "#     #print(\"مراكز العناقيد النهائية:\")\n",
    "# #print(centers)\n",
    "#     # print(\"تصنيف النقاط:\")\n",
    "# #print(best_labels)\n",
    "#     #print(\"SSE:\")\n",
    "# print(best_sse)\n"
   ]
  },
  {
   "cell_type": "code",
   "execution_count": null,
   "id": "b484e3f7-078d-49bd-9541-baa17272d438",
   "metadata": {},
   "outputs": [],
   "source": []
  },
  {
   "cell_type": "code",
   "execution_count": 830,
   "id": "7c6ce888-b9dc-41da-8e44-1660e6620521",
   "metadata": {},
   "outputs": [
    {
     "name": "stdout",
     "output_type": "stream",
     "text": [
      "مراكز العناقيد النهائية:\n",
      "[[ 11.8125     272.5625      68.3125      28.375     ]\n",
      " [  5.59       112.4         65.6         17.27      ]\n",
      " [  2.95        62.7         53.9         11.51      ]\n",
      " [  8.21428571 173.28571429  70.64285714  22.84285714]]\n",
      "تصنيف النقاط:\n",
      "[0 0 0 3 0 3 1 0 0 3 2 1 0 1 2 1 1 0 2 0 3 0 2 0 3 1 1 0 2 3 0 0 0 2 1 3 3\n",
      " 1 3 0 2 3 3 1 2 3 3 2 2 3]\n",
      "SSE:\n",
      "34728.629357142854\n"
     ]
    }
   ],
   "source": [
    "np.random.seed(1)\n",
    "labels,centers, sse = My_kmeans(data, k)\n",
    "print(\"مراكز العناقيد النهائية:\")\n",
    "print(centers)\n",
    "print(\"تصنيف النقاط:\")\n",
    "print(labels)\n",
    "print(\"SSE:\")\n",
    "print(sse)"
   ]
  },
  {
   "cell_type": "markdown",
   "id": "16e3b654-1c95-4eff-a72e-6b6d3e7d2121",
   "metadata": {},
   "source": [
    "# خوارزمية 2   بدون التعديلات"
   ]
  },
  {
   "cell_type": "code",
   "execution_count": 1440,
   "id": "d9a7079c-7618-4de7-a83b-f82c992ae0a1",
   "metadata": {},
   "outputs": [],
   "source": [
    "import numpy as np\n",
    "def My_kmeans(data, k, max_iterations=100):\n",
    "    \n",
    "    centers= data[np.random.choice(range(len(data)), k, replace=False)]\n",
    "    #print(centers)\n",
    "    labels=np.full(len(data), 999)  \n",
    "    prev_centers = np.copy(centers)\n",
    "    sse=0.0\n",
    "      \n",
    "    for iter in range(max_iterations):  \n",
    "        for i in range(len(data)):              \n",
    "            point = data[i]\n",
    "            distances = np.linalg.norm(point - centers, axis=1)\n",
    "            cluster_index = np.argmin(distances)\n",
    "            dist_to_nearest_cluster = distances[cluster_index]\n",
    "\n",
    "            if (labels[i]==cluster_index):  \n",
    "                sorted_distances_indices = np.argsort(distances)                \n",
    "                second_nearest_cluster_index = sorted_distances_indices[1]\n",
    "                dist_to_second_nearest_cluster = distances[second_nearest_cluster_index]\n",
    "                           \n",
    "                num_points_in_nearest_cluster = np.sum(labels == cluster_index)\n",
    "                if num_points_in_nearest_cluster > 1:\n",
    "                    D = (dist_to_nearest_cluster ) / (num_points_in_nearest_cluster - 1) + dist_to_nearest_cluster\n",
    "                else:\n",
    "                    D = dist_to_nearest_cluster                \n",
    "                E = dist_to_second_nearest_cluster\n",
    "                if E < D:\n",
    "                    labels[i] = second_nearest_cluster_index                   \n",
    "            else:\n",
    "                labels[i]=cluster_index                \n",
    "            for j in range(k): \n",
    "                            cluster_points = data[labels == j]   \n",
    "                            if len(cluster_points) > 0:\n",
    "                               centers[j] = cluster_points.mean(axis=0)  \n",
    "                           \n",
    "        if np.all(centers == prev_centers):\n",
    "            break\n",
    "        \n",
    "        distances = np.linalg.norm(data[:, np.newaxis] - centers, axis=2)\n",
    "        sse = np.sum(np.min(distances, axis=1)**2)\n",
    "        \n",
    "        prev_centers = np.copy(centers) \n",
    "    print(labels_1)\n",
    "    print(centers_1)\n",
    "    return labels, centers, sse\n",
    "\n"
   ]
  },
  {
   "cell_type": "code",
   "execution_count": 1504,
   "id": "bd6e9bec-dfae-4e4a-b578-0e8a7c7ee309",
   "metadata": {},
   "outputs": [
    {
     "name": "stdout",
     "output_type": "stream",
     "text": [
      "[1 1 1 1 1 1 1 1 1 1 1 1 1 1 1 1 1 1 1 1 1 1 1 1 1 1 1 1 1 1 1 1 1 1 1 1 1\n",
      " 1 1 1 1 1 1 1 1 1 1 1 1 1 3 3 3 2 3 2 3 2 3 2 2 2 2 3 2 3 2 2 3 2 3 2 3 3\n",
      " 3 3 3 3 3 2 2 2 2 3 2 3 3 3 2 2 2 3 2 2 2 2 2 3 2 2 0 3 0 0 0 0 2 0 0 0 3\n",
      " 3 0 3 3 0 0 0 0 3 0 3 0 3 0 0 3 3 0 0 0 0 0 3 3 0 0 0 3 0 0 0 3 0 0 0 3 3\n",
      " 0 3]\n",
      "[[6.9125     3.1        5.846875   2.13125   ]\n",
      " [5.006      3.428      1.462      0.246     ]\n",
      " [5.53214286 2.63571429 3.96071429 1.22857143]\n",
      " [6.2525     2.855      4.815      1.625     ]]\n",
      "71.44524662095121\n"
     ]
    }
   ],
   "source": [
    "data=df8\n",
    "labels,centers, sse = My_kmeans(data, k)\n",
    "print(sse)\n",
    "#print(centers)\n",
    "#print(labels)\n",
    "#print(centers_1)"
   ]
  },
  {
   "cell_type": "code",
   "execution_count": null,
   "id": "b4b186b4-0a57-4dc5-9479-38e0911c22be",
   "metadata": {},
   "outputs": [],
   "source": []
  },
  {
   "cell_type": "code",
   "execution_count": null,
   "id": "16563bd5-7dab-4381-8504-6e5f8d629f59",
   "metadata": {},
   "outputs": [],
   "source": []
  },
  {
   "cell_type": "code",
   "execution_count": null,
   "id": "f6fb9012-ec0d-418b-8e69-4e7c5f506879",
   "metadata": {},
   "outputs": [],
   "source": []
  },
  {
   "cell_type": "code",
   "execution_count": 1359,
   "id": "fd510d16-195b-4be6-8a8d-cbe22f2f1b10",
   "metadata": {
    "scrolled": true
   },
   "outputs": [
    {
     "name": "stdout",
     "output_type": "stream",
     "text": [
      "37652.659523809525\n"
     ]
    }
   ],
   "source": [
    "labels_1,centers_1 = My2_kmeans(data, k)\n",
    "#print(labels_1)"
   ]
  },
  {
   "cell_type": "markdown",
   "id": "1ceaaaca-e4ef-4006-ab9a-2024a2f5de50",
   "metadata": {},
   "source": [
    "# 2 مع التعديلات"
   ]
  },
  {
   "cell_type": "markdown",
   "id": "c003a9c4-e1ae-42a9-884f-8a38c0edebef",
   "metadata": {},
   "source": [
    "# MacQueen Algorithm "
   ]
  },
  {
   "cell_type": "code",
   "execution_count": 1263,
   "id": "815ee79d-d4d0-4438-8df0-f0cace31694e",
   "metadata": {},
   "outputs": [],
   "source": [
    "## MacQueen Algorithm ######\n",
    "\n",
    "import numpy as np\n",
    "\n",
    "#  Definition of function\n",
    "def MacQueen_kmeans(data, k, max_iterations=50):\n",
    "\n",
    "    # Randomly select initial cluster centers\n",
    "    centers = data[np.random.choice(range(len(data)), k, replace=False)]\n",
    "\n",
    "    # Definition of initial values\n",
    "    labels= np.full(len(data), 999) \n",
    "    prev_centers = np.copy(centers)\n",
    "    wss=0.0\n",
    "\n",
    "    #Start repeating until there is no change in centers \n",
    "    for iter in range(max_iterations):\n",
    "        # Assign each point to the nearest center\n",
    "        for i in range(len(data)):\n",
    "            point = data[i]\n",
    "            distances = np.linalg.norm(point - centers, axis=1)\n",
    "            cluster_index = np.argmin(distances)\n",
    "            labels[i] = cluster_index\n",
    "            \n",
    "            # Updating cluster centers          \n",
    "            for j in range(k):\n",
    "                cluster_points = data[labels == j]\n",
    "                if len(cluster_points) > 0:\n",
    "                    centers[j] = cluster_points.mean(axis=0)\n",
    "        # Check if cluster centers have changed\n",
    "        if np.all(centers == prev_centers):\n",
    "            break\n",
    "\n",
    "        # Calculate \"Within-Cluster Sum of Squares\"\n",
    "        distances = np.linalg.norm(data[:, np.newaxis] - centers, axis=2)    \n",
    "        wss = np.sum(np.min(distances, axis=1)**2)\n",
    "           \n",
    "    return labels, centers, wss"
   ]
  },
  {
   "cell_type": "code",
   "execution_count": 1437,
   "id": "dfd75f87-34ef-4a89-aac3-66e57e03d2d3",
   "metadata": {},
   "outputs": [
    {
     "name": "stdout",
     "output_type": "stream",
     "text": [
      "MacQueen Algorthim\n",
      "Labels: [0 2 3 2 1 2 2 1 2 3 0 0 0 0 3 0 0 0 3 1 0 0 1 0 2 2 3 2 3 2 3 3 2 2 1 3 3\n",
      " 3 0 3 0 3 0]\n",
      "wss: 96.0791978021978\n"
     ]
    }
   ],
   "source": [
    "### MacQueen \n",
    "print(\"MacQueen Algorthim\")\n",
    "# قم بتحميل البيانات الخاصة بك\n",
    "data =df7\n",
    "#np.random.seed(55)\n",
    "# تحديد عد العناقيد\n",
    "k = 4\n",
    "\n",
    "\n",
    "# تنفيذ خوارزمية K-means\n",
    "labels, centers,wss= MacQueen_kmeans(data, k)\n",
    "print(\"Labels:\", labels)\n",
    "#print(\"Centers:\", centers)\n",
    "print(\"wss:\", wss)"
   ]
  },
  {
   "cell_type": "code",
   "execution_count": null,
   "id": "1cfdd51d-7d3a-4de5-a1dc-4aae1594bf6f",
   "metadata": {},
   "outputs": [],
   "source": []
  }
 ],
 "metadata": {
  "kernelspec": {
   "display_name": "Python 3 (ipykernel)",
   "language": "python",
   "name": "python3"
  },
  "language_info": {
   "codemirror_mode": {
    "name": "ipython",
    "version": 3
   },
   "file_extension": ".py",
   "mimetype": "text/x-python",
   "name": "python",
   "nbconvert_exporter": "python",
   "pygments_lexer": "ipython3",
   "version": "3.11.7"
  }
 },
 "nbformat": 4,
 "nbformat_minor": 5
}
