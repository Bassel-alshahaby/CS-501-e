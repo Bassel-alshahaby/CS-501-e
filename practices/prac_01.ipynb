{
 "cells": [
  {
   "cell_type": "markdown",
   "id": "6ea916c8-b3d5-4a93-81f4-ce9d85c90788",
   "metadata": {},
   "source": [
    "# practice 01"
   ]
  },
  {
   "cell_type": "markdown",
   "id": "04f57970-5a58-465d-a27c-0dcc37bfd6bc",
   "metadata": {},
   "source": [
    "## Q1: Create a variable named `age` and assign your age to it."
   ]
  },
  {
   "cell_type": "code",
   "execution_count": 1,
   "id": "30ab0003-82b6-4c8e-83f8-acfe89ed9159",
   "metadata": {},
   "outputs": [],
   "source": [
    "age =35"
   ]
  },
  {
   "cell_type": "markdown",
   "id": "1c23e629-de65-441f-b73d-daca188815c8",
   "metadata": {},
   "source": [
    "## Q2: Create two variables, `city` and `country`, and assign your city and country to them.\n"
   ]
  },
  {
   "cell_type": "code",
   "execution_count": 2,
   "id": "e34cabf5-e70e-4414-9549-b87b3b951eeb",
   "metadata": {},
   "outputs": [],
   "source": [
    "city = 'aleppo'\n",
    "country = 'syria'"
   ]
  },
  {
   "cell_type": "markdown",
   "id": "2a0ddcb0-2b04-4127-884e-dc3c751b1739",
   "metadata": {},
   "source": [
    "## Q3: Combine `city` and `country` into a single string `location` and print it.\n"
   ]
  },
  {
   "cell_type": "code",
   "execution_count": 4,
   "id": "be5296d9-f633-4576-b8c7-9e486eda7eac",
   "metadata": {},
   "outputs": [
    {
     "name": "stdout",
     "output_type": "stream",
     "text": [
      "aleppo, syria\n"
     ]
    }
   ],
   "source": [
    "location = f\"{city}, {country}\"\n",
    "print(location)"
   ]
  },
  {
   "cell_type": "markdown",
   "id": "3d4e5dd8-003c-4c1e-9566-17a719b2972b",
   "metadata": {},
   "source": [
    "## Q4: Change the value of `age` to a different number and print it.\n"
   ]
  },
  {
   "cell_type": "code",
   "execution_count": 6,
   "id": "f1a6d8aa-8c21-4613-b802-7b0fdd9394e1",
   "metadata": {},
   "outputs": [
    {
     "name": "stdout",
     "output_type": "stream",
     "text": [
      "40\n"
     ]
    }
   ],
   "source": [
    "age = 40\n",
    "print(age)"
   ]
  },
  {
   "cell_type": "markdown",
   "id": "ef45b943-bf77-4088-8d63-0ddc11e30996",
   "metadata": {},
   "source": [
    "## Q5: Create a variable `height` and assign a float value representing your height in meters.\n"
   ]
  },
  {
   "cell_type": "code",
   "execution_count": 8,
   "id": "50d67ed3-cb3e-47da-b5e9-b72d9cdf850a",
   "metadata": {},
   "outputs": [],
   "source": [
    "height= 1.9"
   ]
  },
  {
   "cell_type": "markdown",
   "id": "8f064853-46a6-4b1f-88a4-9fa5fa9d6b7f",
   "metadata": {},
   "source": [
    "## Q6: Check and print the data type of the `height` variable using the `type()` function.\n"
   ]
  },
  {
   "cell_type": "code",
   "execution_count": 9,
   "id": "ec2cab77-0d35-4718-b1a4-8243175cfa2e",
   "metadata": {},
   "outputs": [
    {
     "data": {
      "text/plain": [
       "float"
      ]
     },
     "execution_count": 9,
     "metadata": {},
     "output_type": "execute_result"
    }
   ],
   "source": [
    "type(height)"
   ]
  },
  {
   "cell_type": "markdown",
   "id": "bfd59a22-3c25-40bd-ab70-7005a97d4e36",
   "metadata": {},
   "source": [
    "## Q7: Assign the value `True` to a variable named `is_student` and print the variable.\n"
   ]
  },
  {
   "cell_type": "code",
   "execution_count": 11,
   "id": "7c6fb531-2a5a-49a2-b75a-7dfc2a013890",
   "metadata": {},
   "outputs": [
    {
     "name": "stdout",
     "output_type": "stream",
     "text": [
      "True\n"
     ]
    }
   ],
   "source": [
    "is_student=True\n",
    "print(is_student)"
   ]
  },
  {
   "cell_type": "markdown",
   "id": "c1d2cc12-96f7-48e0-8e48-3854b3d694e3",
   "metadata": {},
   "source": [
    "## Q8: Create a variable `name` with your first name using double quotes and then another variable `surname` with your last name using single quotes. Combine them into `full_name`.\n"
   ]
  },
  {
   "cell_type": "code",
   "execution_count": 14,
   "id": "28885790-519c-421f-8872-d1a893842a6d",
   "metadata": {},
   "outputs": [
    {
     "name": "stdout",
     "output_type": "stream",
     "text": [
      "Bassel Alshahaby\n"
     ]
    }
   ],
   "source": [
    "name = 'Bassel'\n",
    "usrname=\"Alshahaby\"\n",
    "full_name=f\"{name} {usrname}\"\n",
    "print(full_name)"
   ]
  },
  {
   "cell_type": "markdown",
   "id": "60ce1221-f95a-4937-9ea8-c8454b357739",
   "metadata": {},
   "source": [
    "## Q9: Create two variables `x` and `y` and assign them integer values. Swap their values without using a third variable.\n"
   ]
  },
  {
   "cell_type": "code",
   "execution_count": 16,
   "id": "84bce67e-984b-428f-b1ad-dfb7e0072c13",
   "metadata": {},
   "outputs": [
    {
     "data": {
      "text/plain": [
       "True"
      ]
     },
     "execution_count": 16,
     "metadata": {},
     "output_type": "execute_result"
    }
   ],
   "source": [
    "x= 100\n",
    "y=10\n",
    "x=100/2\n",
    "y=y*5\n",
    "x==y"
   ]
  },
  {
   "cell_type": "markdown",
   "id": "b464b333-9dd5-403a-ab76-1a76d5d84b4f",
   "metadata": {},
   "source": [
    "## Q10: Write a statement to update the `age` variable by adding 5 to it.\n"
   ]
  },
  {
   "cell_type": "code",
   "execution_count": 17,
   "id": "918131ff-5e17-41c4-9d87-2ff86a114753",
   "metadata": {},
   "outputs": [
    {
     "name": "stdout",
     "output_type": "stream",
     "text": [
      "45\n"
     ]
    }
   ],
   "source": [
    "age+=5\n",
    "print(age)"
   ]
  },
  {
   "cell_type": "markdown",
   "id": "459a6145-5ae8-42a4-bd61-66e06118c8a2",
   "metadata": {},
   "source": [
    "## Q11: Create a variable `length` and assign it the value 15. Create another variable `width` and assign it 10. Calculate the area of a rectangle using these variables and print the result.\n"
   ]
  },
  {
   "cell_type": "code",
   "execution_count": 20,
   "id": "2b57fca0-899b-40fd-8529-05fe37b62e1e",
   "metadata": {},
   "outputs": [
    {
     "name": "stdout",
     "output_type": "stream",
     "text": [
      "150\n"
     ]
    }
   ],
   "source": [
    "length =15\n",
    "width=10\n",
    "area_rect = length*width\n",
    "print(area_rect)\n"
   ]
  },
  {
   "cell_type": "markdown",
   "id": "60c745b4-b602-4a4a-a296-6acbfcafc5d9",
   "metadata": {},
   "source": [
    "## Q12: Using the variables `base` and `height`, calculate the area of a triangle and print it. Assume `base = 8` and `height = 5`.\n"
   ]
  },
  {
   "cell_type": "code",
   "execution_count": 22,
   "id": "69637a32-b507-49d0-ad6f-28511623b11e",
   "metadata": {},
   "outputs": [
    {
     "name": "stdout",
     "output_type": "stream",
     "text": [
      "20.0\n"
     ]
    }
   ],
   "source": [
    "base = 8\n",
    "height = 5\n",
    "\n",
    "area_tri=base*height/2\n",
    "print(area_tri)"
   ]
  },
  {
   "cell_type": "markdown",
   "id": "bfed11e6-fb02-4d1c-af44-6113812b7df2",
   "metadata": {},
   "source": [
    "## Q13: Create a string variable `greeting` with the text \"Hello\" and another variable `recipient` with the text \"World\". Combine them with a space in between and print the result.\n"
   ]
  },
  {
   "cell_type": "code",
   "execution_count": 24,
   "id": "00754e1d-e932-42e5-add3-32d903a4018f",
   "metadata": {},
   "outputs": [
    {
     "name": "stdout",
     "output_type": "stream",
     "text": [
      "Hello World\n"
     ]
    }
   ],
   "source": [
    "\n",
    "greeting = \"Hello\"\n",
    "recipient = \"World\"\n",
    "\n",
    "\n",
    "message = f\"{greeting} {recipient}\"\n",
    "\n",
    "\n",
    "print(message)"
   ]
  },
  {
   "cell_type": "markdown",
   "id": "78baef79-74b2-4005-be5f-7ee20d636e95",
   "metadata": {},
   "source": [
    "## Q14: Create a boolean variable `is_active` and set it to `False`. Then change its value to `True` and print it.\n"
   ]
  },
  {
   "cell_type": "code",
   "execution_count": 26,
   "id": "9a27403e-4a5f-4700-a37b-a28f3de01f3a",
   "metadata": {},
   "outputs": [
    {
     "name": "stdout",
     "output_type": "stream",
     "text": [
      "True\n"
     ]
    },
    {
     "data": {
      "text/plain": [
       "bool"
      ]
     },
     "execution_count": 26,
     "metadata": {},
     "output_type": "execute_result"
    }
   ],
   "source": [
    "is_active = False\n",
    "is_active = True\n",
    "\n",
    "print(is_active)\n",
    "type(is_active)"
   ]
  },
  {
   "cell_type": "markdown",
   "id": "7ea9187b-fce6-4239-b29f-3cdcc119005d",
   "metadata": {},
   "source": [
    "## Q15: Using f-strings, print a formatted message: \"My name is [name] and I am [age] years old.\" Replace [name] and [age] with the appropriate variables.\n"
   ]
  },
  {
   "cell_type": "code",
   "execution_count": 28,
   "id": "7efc3130-1ca3-487b-bd2c-ec5c624b9f08",
   "metadata": {},
   "outputs": [
    {
     "name": "stdout",
     "output_type": "stream",
     "text": [
      "My name is : Bassel Alshahaby and I am 45 years old\n"
     ]
    }
   ],
   "source": [
    "print(f\"My name is : {full_name} and I am {age} years old\")\n",
    "    "
   ]
  },
  {
   "cell_type": "markdown",
   "id": "18c93cd8-8dcb-4e8a-be93-a7b8b5ea1ca8",
   "metadata": {},
   "source": [
    "## Q16: Create a variable `pi` and assign it the value 3.14159. Print the variable, ensuring it only shows 2 decimal places.\n"
   ]
  },
  {
   "cell_type": "code",
   "execution_count": 29,
   "id": "9cff595b-16a7-48ac-aef8-32cc5d39fdf0",
   "metadata": {},
   "outputs": [
    {
     "name": "stdout",
     "output_type": "stream",
     "text": [
      "3.14\n"
     ]
    }
   ],
   "source": [
    "pi = 3.14159\n",
    "\n",
    "print(f\"{pi:.2f}\")"
   ]
  },
  {
   "cell_type": "markdown",
   "id": "e0c3e58b-f413-463b-baa4-9782cba7cbb5",
   "metadata": {},
   "source": [
    "## Q17: Assign the value of a mathematical expression (e.g., `2 * (3 + 5)`) to a variable and print it.\n"
   ]
  },
  {
   "cell_type": "code",
   "execution_count": 30,
   "id": "889945e8-7580-481b-9e85-90cffc37396f",
   "metadata": {},
   "outputs": [
    {
     "name": "stdout",
     "output_type": "stream",
     "text": [
      "90\n"
     ]
    }
   ],
   "source": [
    "val_01 = (10+20)*3\n",
    "print(val_01)"
   ]
  },
  {
   "cell_type": "markdown",
   "id": "e0d3651d-f053-468c-aa4d-17f6315f8d29",
   "metadata": {},
   "source": [
    "## Q18: Create a variable `sentence` and assign it a sentence of your choice. Use slicing to print the first 5 characters.\n"
   ]
  },
  {
   "cell_type": "code",
   "execution_count": 32,
   "id": "0c06de38-2564-40ce-9426-14567b76fe3f",
   "metadata": {},
   "outputs": [
    {
     "name": "stdout",
     "output_type": "stream",
     "text": [
      "Creat\n"
     ]
    }
   ],
   "source": [
    "sentence = \"Create a variable sentence and assign it a sentence of your choice. Use slicing to print the first 5 characters.\"\n",
    "\n",
    "first_5_characters = sentence[:5]\n",
    "\n",
    "print(first_5_characters)"
   ]
  },
  {
   "cell_type": "markdown",
   "id": "1e5b6e38-4ecb-4075-87aa-73bfa5137fad",
   "metadata": {},
   "source": [
    "## Q19: Create a variable `number` with the value 100. Use an arithmetic operation to double its value and then print it.\n"
   ]
  },
  {
   "cell_type": "code",
   "execution_count": 34,
   "id": "c3147480-d090-48fa-8069-910f9ac71350",
   "metadata": {},
   "outputs": [
    {
     "name": "stdout",
     "output_type": "stream",
     "text": [
      "200\n"
     ]
    }
   ],
   "source": [
    "number = 100\n",
    "double_num = 2*number\n",
    "print(double_num)"
   ]
  },
  {
   "cell_type": "markdown",
   "id": "f9989220-3254-426e-9f34-8feb1853b996",
   "metadata": {},
   "source": [
    "## Q20: Declare three variables `a`, `b`, and `c` with values 5, 10, and 15 respectively. Calculate and print their average.\n"
   ]
  },
  {
   "cell_type": "code",
   "execution_count": 35,
   "id": "ca8bca9c-a392-4a9b-8a59-abcd382cd1f1",
   "metadata": {},
   "outputs": [
    {
     "name": "stdout",
     "output_type": "stream",
     "text": [
      "10.0\n"
     ]
    }
   ],
   "source": [
    "\n",
    "a = 5\n",
    "b = 10\n",
    "c = 15\n",
    "\n",
    "average = (a + b + c) / 3\n",
    "\n",
    "print(average)"
   ]
  },
  {
   "cell_type": "code",
   "execution_count": null,
   "id": "bc6ece68-47f9-43db-83c1-00c1a9869a84",
   "metadata": {},
   "outputs": [],
   "source": []
  }
 ],
 "metadata": {
  "kernelspec": {
   "display_name": "Python 3 (ipykernel)",
   "language": "python",
   "name": "python3"
  },
  "language_info": {
   "codemirror_mode": {
    "name": "ipython",
    "version": 3
   },
   "file_extension": ".py",
   "mimetype": "text/x-python",
   "name": "python",
   "nbconvert_exporter": "python",
   "pygments_lexer": "ipython3",
   "version": "3.11.7"
  }
 },
 "nbformat": 4,
 "nbformat_minor": 5
}
